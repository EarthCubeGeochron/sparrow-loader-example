{
 "cells": [
  {
   "attachments": {},
   "cell_type": "markdown",
   "metadata": {},
   "source": [
    "# Sparrow loader example\n",
    "\n",
    "This notebook shows the process of validating data for preparation to include in Sparrow. It requires Python `>3.9`\n",
    "\n",
    "Before running this example, you must install the `sparrow-loader` python module with `pip` as such:\n",
    "```pip install sparrow-loader```."
   ]
  },
  {
   "cell_type": "code",
   "execution_count": null,
   "metadata": {},
   "outputs": [],
   "source": [
    "%%sh\n",
    "pip install sparrow-loader > /dev/null # Install sparrow-loader in case we haven't already"
   ]
  },
  {
   "cell_type": "code",
   "execution_count": null,
   "metadata": {},
   "outputs": [],
   "source": [
    "from sparrow.loader import validate_data, show_loader_schemas"
   ]
  },
  {
   "cell_type": "markdown",
   "metadata": {},
   "source": [
    "We can show all the loader schemas"
   ]
  },
  {
   "cell_type": "code",
   "execution_count": null,
   "metadata": {},
   "outputs": [],
   "source": [
    "show_loader_schemas()"
   ]
  },
  {
   "cell_type": "markdown",
   "metadata": {},
   "source": [
    "...or a specific one."
   ]
  },
  {
   "cell_type": "code",
   "execution_count": null,
   "metadata": {},
   "outputs": [],
   "source": [
    "show_loader_schemas(\"sample\")"
   ]
  },
  {
   "cell_type": "markdown",
   "metadata": {},
   "source": [
    "## Validating data\n",
    "\n",
    "Now, let's try validating some data. First, let's construct a basic sample object."
   ]
  },
  {
   "cell_type": "code",
   "execution_count": null,
   "metadata": {},
   "outputs": [],
   "source": [
    "test_sample = {\n",
    "    \"name\": \"Test sample\",\n",
    "    \"location_name\": \"idk, somewhere in Texas I guess\",\n",
    "}\n",
    "validate_data(\"sample\", test_sample)"
   ]
  },
  {
   "attachments": {},
   "cell_type": "markdown",
   "metadata": {},
   "source": [
    "What happens if we do something wrong?"
   ]
  },
  {
   "cell_type": "code",
   "execution_count": null,
   "metadata": {},
   "outputs": [],
   "source": [
    "test_bad_sample = {\n",
    "    \"name\": \"Test sample v2\",\n",
    "    \"elevation\": \"in the sky\"\n",
    "}\n",
    "\n",
    "validate_data(\"sample\", test_bad_sample)"
   ]
  },
  {
   "attachments": {},
   "cell_type": "markdown",
   "metadata": {},
   "source": [
    "We can also validate \"sessions\": groups of measurements on a single sample, measured together"
   ]
  },
  {
   "cell_type": "code",
   "execution_count": null,
   "metadata": {},
   "outputs": [],
   "source": [
    "show_loader_schemas(\"session\", nest_depth=2)"
   ]
  },
  {
   "attachments": {},
   "cell_type": "markdown",
   "metadata": {},
   "source": [
    "Let's try a simple session. Note that, in this case, the sample is nested within the session."
   ]
  },
  {
   "cell_type": "code",
   "execution_count": null,
   "metadata": {},
   "outputs": [],
   "source": [
    "test_session = {\n",
    "            \"name\": \"Test date\",\n",
    "            \"date\": \"2022-01-01T00:00:00\",\n",
    "            \"sample\": {\"name\": \"Sample 1\"},\n",
    "        }\n",
    "validate_data(\"session\", test_session)"
   ]
  },
  {
   "attachments": {},
   "cell_type": "markdown",
   "metadata": {},
   "source": [
    "We can also import a bad session! This will throw an error."
   ]
  },
  {
   "cell_type": "code",
   "execution_count": null,
   "metadata": {},
   "outputs": [],
   "source": [
    "test_bad_session = {\n",
    "            \"name\": \"Test date\",\n",
    "            \"date\": \"last monday\",\n",
    "            \"sample\": \"Z-22\",\n",
    "        }\n",
    "validate_data(\"session\", test_bad_session)"
   ]
  },
  {
   "cell_type": "code",
   "execution_count": null,
   "metadata": {},
   "outputs": [],
   "source": [
    "data = {\n",
    "            \"date\": \"2020-02-02T10:20:02\",\n",
    "            \"name\": \"Declarative import test 2\",\n",
    "            \"sample\": {\"name\": \"Soil 002\"},\n",
    "            \"analysis\": [\n",
    "                {\n",
    "                    \"analysis_type\": {\"id\": \"Soil aliquot pyrolysis\"},\n",
    "                    \"session_index\": 0,\n",
    "                    \"datum\": [\n",
    "                        {\n",
    "                            \"value\": 1.18,\n",
    "                            \"error\": 0.15,\n",
    "                            \"type\": {\n",
    "                                \"parameter\": {\"id\": \"soil water content\"},\n",
    "                                \"unit\": {\"id\": \"weight %\"},\n",
    "                            },\n",
    "                        }\n",
    "                    ],\n",
    "                }\n",
    "            ],\n",
    "        }\n",
    "validate_data(\"session\", data)"
   ]
  },
  {
   "cell_type": "code",
   "execution_count": null,
   "metadata": {},
   "outputs": [],
   "source": [
    "\n"
   ]
  }
 ],
 "metadata": {
  "kernelspec": {
   "display_name": "Python 3.10.3 64-bit ('shims')",
   "language": "python",
   "name": "python3"
  },
  "language_info": {
   "codemirror_mode": {
    "name": "ipython",
    "version": 3
   },
   "file_extension": ".py",
   "mimetype": "text/x-python",
   "name": "python",
   "nbconvert_exporter": "python",
   "pygments_lexer": "ipython3",
   "version": "3.9.9"
  },
  "orig_nbformat": 4,
  "vscode": {
   "interpreter": {
    "hash": "2ba0ab4f8a524090fb2cf795f484c5f65120e0148dc48b9550f77fd6e0973dec"
   }
  }
 },
 "nbformat": 4,
 "nbformat_minor": 2
}
